{
 "cells": [
  {
   "cell_type": "markdown",
   "metadata": {},
   "source": [
    "# **Retrieval with k-NN**"
   ]
  },
  {
   "cell_type": "code",
   "execution_count": 1,
   "metadata": {},
   "outputs": [],
   "source": [
    "import sys\n",
    "\n",
    "sys.path.insert(0, \"..\\\\Scripts\")\n",
    "\n",
    "import os\n",
    "import numpy as np\n",
    "import pandas as pd\n",
    "import matplotlib.pyplot as plt"
   ]
  },
  {
   "cell_type": "markdown",
   "metadata": {},
   "source": [
    "## **Load dataset**"
   ]
  },
  {
   "cell_type": "code",
   "execution_count": 2,
   "metadata": {},
   "outputs": [],
   "source": [
    "base_feature_path = '../Features/features/'\n",
    "base_labels_path = '../Features/labels/'"
   ]
  },
  {
   "cell_type": "markdown",
   "metadata": {},
   "source": [
    "### **Load train small dataset**\n"
   ]
  },
  {
   "cell_type": "code",
   "execution_count": 3,
   "metadata": {},
   "outputs": [],
   "source": [
    "feat_small = np.load(base_feature_path + 'mobilenet_v3_classifier.npy')\n",
    "labs_small = np.load(base_labels_path + 'mobilenet_v3_classifier.npy')"
   ]
  },
  {
   "cell_type": "code",
   "execution_count": 4,
   "metadata": {},
   "outputs": [
    {
     "data": {
      "text/html": [
       "<div>\n",
       "<style scoped>\n",
       "    .dataframe tbody tr th:only-of-type {\n",
       "        vertical-align: middle;\n",
       "    }\n",
       "\n",
       "    .dataframe tbody tr th {\n",
       "        vertical-align: top;\n",
       "    }\n",
       "\n",
       "    .dataframe thead th {\n",
       "        text-align: right;\n",
       "    }\n",
       "</style>\n",
       "<table border=\"1\" class=\"dataframe\">\n",
       "  <thead>\n",
       "    <tr style=\"text-align: right;\">\n",
       "      <th></th>\n",
       "      <th>0</th>\n",
       "      <th>1</th>\n",
       "    </tr>\n",
       "  </thead>\n",
       "  <tbody>\n",
       "    <tr>\n",
       "      <th>0</th>\n",
       "      <td>train_059371.jpg</td>\n",
       "      <td>0</td>\n",
       "    </tr>\n",
       "    <tr>\n",
       "      <th>1</th>\n",
       "      <td>train_059389.jpg</td>\n",
       "      <td>0</td>\n",
       "    </tr>\n",
       "    <tr>\n",
       "      <th>2</th>\n",
       "      <td>train_059425.jpg</td>\n",
       "      <td>0</td>\n",
       "    </tr>\n",
       "    <tr>\n",
       "      <th>3</th>\n",
       "      <td>train_059445.jpg</td>\n",
       "      <td>0</td>\n",
       "    </tr>\n",
       "    <tr>\n",
       "      <th>4</th>\n",
       "      <td>train_059516.jpg</td>\n",
       "      <td>0</td>\n",
       "    </tr>\n",
       "  </tbody>\n",
       "</table>\n",
       "</div>"
      ],
      "text/plain": [
       "                  0  1\n",
       "0  train_059371.jpg  0\n",
       "1  train_059389.jpg  0\n",
       "2  train_059425.jpg  0\n",
       "3  train_059445.jpg  0\n",
       "4  train_059516.jpg  0"
      ]
     },
     "execution_count": 4,
     "metadata": {},
     "output_type": "execute_result"
    }
   ],
   "source": [
    "df_small = pd.read_csv('../Dataset/train_small.csv', header=None)\n",
    "df_small.head()"
   ]
  },
  {
   "cell_type": "markdown",
   "metadata": {},
   "source": [
    "### **Load unlabelled dataset**"
   ]
  },
  {
   "cell_type": "code",
   "execution_count": 5,
   "metadata": {},
   "outputs": [],
   "source": [
    "feat_unlabelled = np.load(base_feature_path + 'mobilenet_v3_classifier_unlabelled.npy')"
   ]
  },
  {
   "cell_type": "code",
   "execution_count": 6,
   "metadata": {},
   "outputs": [
    {
     "data": {
      "text/html": [
       "<div>\n",
       "<style scoped>\n",
       "    .dataframe tbody tr th:only-of-type {\n",
       "        vertical-align: middle;\n",
       "    }\n",
       "\n",
       "    .dataframe tbody tr th {\n",
       "        vertical-align: top;\n",
       "    }\n",
       "\n",
       "    .dataframe thead th {\n",
       "        text-align: right;\n",
       "    }\n",
       "</style>\n",
       "<table border=\"1\" class=\"dataframe\">\n",
       "  <thead>\n",
       "    <tr style=\"text-align: right;\">\n",
       "      <th></th>\n",
       "      <th>0</th>\n",
       "      <th>1</th>\n",
       "    </tr>\n",
       "  </thead>\n",
       "  <tbody>\n",
       "    <tr>\n",
       "      <th>0</th>\n",
       "      <td>train_059329.jpg</td>\n",
       "      <td>-1</td>\n",
       "    </tr>\n",
       "    <tr>\n",
       "      <th>1</th>\n",
       "      <td>train_059330.jpg</td>\n",
       "      <td>-1</td>\n",
       "    </tr>\n",
       "    <tr>\n",
       "      <th>2</th>\n",
       "      <td>train_059331.jpg</td>\n",
       "      <td>-1</td>\n",
       "    </tr>\n",
       "    <tr>\n",
       "      <th>3</th>\n",
       "      <td>train_059332.jpg</td>\n",
       "      <td>-1</td>\n",
       "    </tr>\n",
       "    <tr>\n",
       "      <th>4</th>\n",
       "      <td>train_059333.jpg</td>\n",
       "      <td>-1</td>\n",
       "    </tr>\n",
       "  </tbody>\n",
       "</table>\n",
       "</div>"
      ],
      "text/plain": [
       "                  0  1\n",
       "0  train_059329.jpg -1\n",
       "1  train_059330.jpg -1\n",
       "2  train_059331.jpg -1\n",
       "3  train_059332.jpg -1\n",
       "4  train_059333.jpg -1"
      ]
     },
     "execution_count": 6,
     "metadata": {},
     "output_type": "execute_result"
    }
   ],
   "source": [
    "df_unlabelled = pd.read_csv('../Dataset/train_unlabeled.csv', header=None)\n",
    "df_unlabelled.head()"
   ]
  },
  {
   "cell_type": "markdown",
   "metadata": {},
   "source": [
    "## **Retrieval with k-NN**"
   ]
  },
  {
   "cell_type": "code",
   "execution_count": 7,
   "metadata": {},
   "outputs": [],
   "source": [
    "from ImageRetrieval import KNNRetrieval"
   ]
  },
  {
   "cell_type": "code",
   "execution_count": 8,
   "metadata": {},
   "outputs": [],
   "source": [
    "retrieval = KNNRetrieval(feat_small, labs_small, k=10)"
   ]
  },
  {
   "cell_type": "code",
   "execution_count": 9,
   "metadata": {},
   "outputs": [
    {
     "name": "stderr",
     "output_type": "stream",
     "text": [
      "100%|██████████| 251/251 [00:45<00:00,  5.53it/s]\n"
     ]
    }
   ],
   "source": [
    "augmented_labels = retrieval.retrieve_images(feat_unlabelled)"
   ]
  },
  {
   "cell_type": "markdown",
   "metadata": {},
   "source": [
    "## **Save Results**"
   ]
  },
  {
   "cell_type": "code",
   "execution_count": 10,
   "metadata": {},
   "outputs": [
    {
     "data": {
      "text/html": [
       "<div>\n",
       "<style scoped>\n",
       "    .dataframe tbody tr th:only-of-type {\n",
       "        vertical-align: middle;\n",
       "    }\n",
       "\n",
       "    .dataframe tbody tr th {\n",
       "        vertical-align: top;\n",
       "    }\n",
       "\n",
       "    .dataframe thead th {\n",
       "        text-align: right;\n",
       "    }\n",
       "</style>\n",
       "<table border=\"1\" class=\"dataframe\">\n",
       "  <thead>\n",
       "    <tr style=\"text-align: right;\">\n",
       "      <th></th>\n",
       "      <th>Image</th>\n",
       "      <th>Label</th>\n",
       "    </tr>\n",
       "  </thead>\n",
       "  <tbody>\n",
       "    <tr>\n",
       "      <th>0</th>\n",
       "      <td>train_059371.jpg</td>\n",
       "      <td>0</td>\n",
       "    </tr>\n",
       "    <tr>\n",
       "      <th>1</th>\n",
       "      <td>train_059389.jpg</td>\n",
       "      <td>0</td>\n",
       "    </tr>\n",
       "    <tr>\n",
       "      <th>2</th>\n",
       "      <td>train_059425.jpg</td>\n",
       "      <td>0</td>\n",
       "    </tr>\n",
       "    <tr>\n",
       "      <th>3</th>\n",
       "      <td>train_059445.jpg</td>\n",
       "      <td>0</td>\n",
       "    </tr>\n",
       "    <tr>\n",
       "      <th>4</th>\n",
       "      <td>train_059516.jpg</td>\n",
       "      <td>0</td>\n",
       "    </tr>\n",
       "  </tbody>\n",
       "</table>\n",
       "</div>"
      ],
      "text/plain": [
       "              Image  Label\n",
       "0  train_059371.jpg      0\n",
       "1  train_059389.jpg      0\n",
       "2  train_059425.jpg      0\n",
       "3  train_059445.jpg      0\n",
       "4  train_059516.jpg      0"
      ]
     },
     "execution_count": 10,
     "metadata": {},
     "output_type": "execute_result"
    }
   ],
   "source": [
    "df_results = df_small.copy()\n",
    "df_results.columns = [\"Image\", \"Label\"]\n",
    "df_results.head()"
   ]
  },
  {
   "cell_type": "code",
   "execution_count": 11,
   "metadata": {},
   "outputs": [
    {
     "data": {
      "text/html": [
       "<div>\n",
       "<style scoped>\n",
       "    .dataframe tbody tr th:only-of-type {\n",
       "        vertical-align: middle;\n",
       "    }\n",
       "\n",
       "    .dataframe tbody tr th {\n",
       "        vertical-align: top;\n",
       "    }\n",
       "\n",
       "    .dataframe thead th {\n",
       "        text-align: right;\n",
       "    }\n",
       "</style>\n",
       "<table border=\"1\" class=\"dataframe\">\n",
       "  <thead>\n",
       "    <tr style=\"text-align: right;\">\n",
       "      <th></th>\n",
       "      <th>Image</th>\n",
       "      <th>Label</th>\n",
       "    </tr>\n",
       "  </thead>\n",
       "  <tbody>\n",
       "    <tr>\n",
       "      <th>1</th>\n",
       "      <td>train_059330.jpg</td>\n",
       "      <td>0</td>\n",
       "    </tr>\n",
       "    <tr>\n",
       "      <th>2</th>\n",
       "      <td>train_059331.jpg</td>\n",
       "      <td>0</td>\n",
       "    </tr>\n",
       "    <tr>\n",
       "      <th>3</th>\n",
       "      <td>train_059332.jpg</td>\n",
       "      <td>0</td>\n",
       "    </tr>\n",
       "    <tr>\n",
       "      <th>7</th>\n",
       "      <td>train_059336.jpg</td>\n",
       "      <td>0</td>\n",
       "    </tr>\n",
       "    <tr>\n",
       "      <th>9</th>\n",
       "      <td>train_059338.jpg</td>\n",
       "      <td>0</td>\n",
       "    </tr>\n",
       "  </tbody>\n",
       "</table>\n",
       "</div>"
      ],
      "text/plain": [
       "              Image  Label\n",
       "1  train_059330.jpg      0\n",
       "2  train_059331.jpg      0\n",
       "3  train_059332.jpg      0\n",
       "7  train_059336.jpg      0\n",
       "9  train_059338.jpg      0"
      ]
     },
     "execution_count": 11,
     "metadata": {},
     "output_type": "execute_result"
    }
   ],
   "source": [
    "tmp = pd.DataFrame({\"Image\": df_unlabelled[0], \"Label\": augmented_labels})\n",
    "tmp = tmp[tmp[\"Label\"] != -1]\n",
    "tmp.head()"
   ]
  },
  {
   "cell_type": "code",
   "execution_count": 12,
   "metadata": {},
   "outputs": [
    {
     "data": {
      "text/html": [
       "<div>\n",
       "<style scoped>\n",
       "    .dataframe tbody tr th:only-of-type {\n",
       "        vertical-align: middle;\n",
       "    }\n",
       "\n",
       "    .dataframe tbody tr th {\n",
       "        vertical-align: top;\n",
       "    }\n",
       "\n",
       "    .dataframe thead th {\n",
       "        text-align: right;\n",
       "    }\n",
       "</style>\n",
       "<table border=\"1\" class=\"dataframe\">\n",
       "  <thead>\n",
       "    <tr style=\"text-align: right;\">\n",
       "      <th></th>\n",
       "      <th>Image</th>\n",
       "      <th>Label</th>\n",
       "    </tr>\n",
       "  </thead>\n",
       "  <tbody>\n",
       "    <tr>\n",
       "      <th>0</th>\n",
       "      <td>train_059371.jpg</td>\n",
       "      <td>0</td>\n",
       "    </tr>\n",
       "    <tr>\n",
       "      <th>1</th>\n",
       "      <td>train_059791.jpg</td>\n",
       "      <td>0</td>\n",
       "    </tr>\n",
       "    <tr>\n",
       "      <th>2</th>\n",
       "      <td>train_059792.jpg</td>\n",
       "      <td>0</td>\n",
       "    </tr>\n",
       "    <tr>\n",
       "      <th>3</th>\n",
       "      <td>train_059796.jpg</td>\n",
       "      <td>0</td>\n",
       "    </tr>\n",
       "    <tr>\n",
       "      <th>4</th>\n",
       "      <td>train_059798.jpg</td>\n",
       "      <td>0</td>\n",
       "    </tr>\n",
       "  </tbody>\n",
       "</table>\n",
       "</div>"
      ],
      "text/plain": [
       "              Image  Label\n",
       "0  train_059371.jpg      0\n",
       "1  train_059791.jpg      0\n",
       "2  train_059792.jpg      0\n",
       "3  train_059796.jpg      0\n",
       "4  train_059798.jpg      0"
      ]
     },
     "execution_count": 12,
     "metadata": {},
     "output_type": "execute_result"
    }
   ],
   "source": [
    "df_results = pd.concat([df_results, tmp])\n",
    "df_results.sort_values(by=\"Label\", inplace=True)\n",
    "df_results.reset_index(drop=True, inplace=True)\n",
    "df_results.head()"
   ]
  },
  {
   "cell_type": "code",
   "execution_count": 13,
   "metadata": {},
   "outputs": [],
   "source": [
    "df_results.to_csv(\"../Dataset/train_augmented_3.csv\", header=False, index=False)"
   ]
  },
  {
   "cell_type": "markdown",
   "metadata": {},
   "source": [
    "## **How the number of labels has changed**"
   ]
  },
  {
   "cell_type": "code",
   "execution_count": 14,
   "metadata": {},
   "outputs": [],
   "source": [
    "import seaborn as sns\n",
    "sns.set_style(\"dark\")"
   ]
  },
  {
   "cell_type": "code",
   "execution_count": 15,
   "metadata": {},
   "outputs": [],
   "source": [
    "df_small.columns = [\"Image\", \"Label\"]"
   ]
  },
  {
   "cell_type": "code",
   "execution_count": 16,
   "metadata": {},
   "outputs": [
    {
     "data": {
      "image/png": "[encoded data removed]",
      "text/plain": [
       "<Figure size 1000x1500 with 1 Axes>"
      ]
     },
     "metadata": {},
     "output_type": "display_data"
    }
   ],
   "source": [
    "plt.figure(figsize=(10, 15))\n",
    "label_counts = df_small['Label'].value_counts()\n",
    "plt.barh(label_counts.index, label_counts.values)\n",
    "plt.xlabel('Frequenza')\n",
    "plt.ylabel('Label')\n",
    "plt.title('Distribuzione delle Label')\n",
    "plt.tight_layout()\n",
    "plt.show()"
   ]
  },
  {
   "cell_type": "code",
   "execution_count": 17,
   "metadata": {},
   "outputs": [
    {
     "data": {
      "image/png": "[encoded data removed]",
      "text/plain": [
       "<Figure size 1000x1500 with 1 Axes>"
      ]
     },
     "metadata": {},
     "output_type": "display_data"
    }
   ],
   "source": [
    "plt.figure(figsize=(10, 15))\n",
    "label_counts = df_results['Label'].value_counts()\n",
    "plt.barh(label_counts.index, label_counts.values)\n",
    "plt.xlabel('Frequenza')\n",
    "plt.ylabel('Label')\n",
    "plt.title('Distribuzione delle Label')\n",
    "plt.tight_layout()\n",
    "plt.show()"
   ]
  },
  {
   "cell_type": "markdown",
   "metadata": {},
   "source": [
    "## **Create a folder with the image for each label**"
   ]
  },
  {
   "cell_type": "code",
   "execution_count": 23,
   "metadata": {},
   "outputs": [],
   "source": [
    "import cv2"
   ]
  },
  {
   "cell_type": "code",
   "execution_count": 18,
   "metadata": {},
   "outputs": [
    {
     "data": {
      "text/html": [
       "<div>\n",
       "<style scoped>\n",
       "    .dataframe tbody tr th:only-of-type {\n",
       "        vertical-align: middle;\n",
       "    }\n",
       "\n",
       "    .dataframe tbody tr th {\n",
       "        vertical-align: top;\n",
       "    }\n",
       "\n",
       "    .dataframe thead th {\n",
       "        text-align: right;\n",
       "    }\n",
       "</style>\n",
       "<table border=\"1\" class=\"dataframe\">\n",
       "  <thead>\n",
       "    <tr style=\"text-align: right;\">\n",
       "      <th></th>\n",
       "      <th>Image</th>\n",
       "      <th>Label</th>\n",
       "    </tr>\n",
       "  </thead>\n",
       "  <tbody>\n",
       "    <tr>\n",
       "      <th>0</th>\n",
       "      <td>train_059371.jpg</td>\n",
       "      <td>0</td>\n",
       "    </tr>\n",
       "    <tr>\n",
       "      <th>1</th>\n",
       "      <td>train_059791.jpg</td>\n",
       "      <td>0</td>\n",
       "    </tr>\n",
       "    <tr>\n",
       "      <th>2</th>\n",
       "      <td>train_059792.jpg</td>\n",
       "      <td>0</td>\n",
       "    </tr>\n",
       "    <tr>\n",
       "      <th>3</th>\n",
       "      <td>train_059796.jpg</td>\n",
       "      <td>0</td>\n",
       "    </tr>\n",
       "    <tr>\n",
       "      <th>4</th>\n",
       "      <td>train_059798.jpg</td>\n",
       "      <td>0</td>\n",
       "    </tr>\n",
       "  </tbody>\n",
       "</table>\n",
       "</div>"
      ],
      "text/plain": [
       "              Image  Label\n",
       "0  train_059371.jpg      0\n",
       "1  train_059791.jpg      0\n",
       "2  train_059792.jpg      0\n",
       "3  train_059796.jpg      0\n",
       "4  train_059798.jpg      0"
      ]
     },
     "execution_count": 18,
     "metadata": {},
     "output_type": "execute_result"
    }
   ],
   "source": [
    "df_folder = pd.read_csv('../Dataset/train_augmented_3.csv', header=None)\n",
    "df_folder.columns = [\"Image\", \"Label\"]\n",
    "df_folder.head()"
   ]
  },
  {
   "cell_type": "code",
   "execution_count": 24,
   "metadata": {},
   "outputs": [
    {
     "name": "stdout",
     "output_type": "stream",
     "text": [
      "---------------------------------------- 0 ----------------------------------------\n",
      "---------------------------------------- 1 ----------------------------------------\n",
      "---------------------------------------- 2 ----------------------------------------\n",
      "---------------------------------------- 3 ----------------------------------------\n",
      "---------------------------------------- 4 ----------------------------------------\n",
      "---------------------------------------- 5 ----------------------------------------\n",
      "---------------------------------------- 6 ----------------------------------------\n",
      "---------------------------------------- 7 ----------------------------------------\n",
      "---------------------------------------- 8 ----------------------------------------\n",
      "---------------------------------------- 9 ----------------------------------------\n",
      "---------------------------------------- 10 ----------------------------------------\n",
      "---------------------------------------- 11 ----------------------------------------\n",
      "---------------------------------------- 12 ----------------------------------------\n",
      "---------------------------------------- 13 ----------------------------------------\n",
      "---------------------------------------- 14 ----------------------------------------\n",
      "---------------------------------------- 15 ----------------------------------------\n",
      "---------------------------------------- 16 ----------------------------------------\n",
      "---------------------------------------- 17 ----------------------------------------\n",
      "---------------------------------------- 18 ----------------------------------------\n",
      "---------------------------------------- 19 ----------------------------------------\n",
      "---------------------------------------- 20 ----------------------------------------\n",
      "---------------------------------------- 21 ----------------------------------------\n",
      "---------------------------------------- 22 ----------------------------------------\n",
      "---------------------------------------- 23 ----------------------------------------\n",
      "---------------------------------------- 24 ----------------------------------------\n",
      "---------------------------------------- 25 ----------------------------------------\n",
      "---------------------------------------- 26 ----------------------------------------\n",
      "---------------------------------------- 27 ----------------------------------------\n",
      "---------------------------------------- 28 ----------------------------------------\n",
      "---------------------------------------- 29 ----------------------------------------\n",
      "---------------------------------------- 30 ----------------------------------------\n",
      "---------------------------------------- 31 ----------------------------------------\n",
      "---------------------------------------- 32 ----------------------------------------\n",
      "---------------------------------------- 33 ----------------------------------------\n",
      "---------------------------------------- 34 ----------------------------------------\n",
      "---------------------------------------- 35 ----------------------------------------\n",
      "---------------------------------------- 36 ----------------------------------------\n",
      "---------------------------------------- 37 ----------------------------------------\n",
      "---------------------------------------- 38 ----------------------------------------\n",
      "---------------------------------------- 39 ----------------------------------------\n",
      "---------------------------------------- 40 ----------------------------------------\n",
      "---------------------------------------- 41 ----------------------------------------\n",
      "---------------------------------------- 42 ----------------------------------------\n",
      "---------------------------------------- 43 ----------------------------------------\n",
      "---------------------------------------- 44 ----------------------------------------\n",
      "---------------------------------------- 45 ----------------------------------------\n",
      "---------------------------------------- 46 ----------------------------------------\n",
      "---------------------------------------- 47 ----------------------------------------\n",
      "---------------------------------------- 48 ----------------------------------------\n",
      "---------------------------------------- 49 ----------------------------------------\n",
      "---------------------------------------- 50 ----------------------------------------\n",
      "---------------------------------------- 51 ----------------------------------------\n",
      "---------------------------------------- 52 ----------------------------------------\n",
      "---------------------------------------- 53 ----------------------------------------\n",
      "---------------------------------------- 54 ----------------------------------------\n",
      "---------------------------------------- 55 ----------------------------------------\n",
      "---------------------------------------- 56 ----------------------------------------\n",
      "---------------------------------------- 57 ----------------------------------------\n",
      "---------------------------------------- 58 ----------------------------------------\n",
      "---------------------------------------- 59 ----------------------------------------\n",
      "---------------------------------------- 60 ----------------------------------------\n",
      "---------------------------------------- 61 ----------------------------------------\n",
      "---------------------------------------- 62 ----------------------------------------\n",
      "---------------------------------------- 63 ----------------------------------------\n",
      "---------------------------------------- 64 ----------------------------------------\n",
      "---------------------------------------- 65 ----------------------------------------\n",
      "---------------------------------------- 66 ----------------------------------------\n",
      "---------------------------------------- 67 ----------------------------------------\n",
      "---------------------------------------- 68 ----------------------------------------\n",
      "---------------------------------------- 69 ----------------------------------------\n",
      "---------------------------------------- 70 ----------------------------------------\n",
      "---------------------------------------- 71 ----------------------------------------\n",
      "---------------------------------------- 72 ----------------------------------------\n",
      "---------------------------------------- 73 ----------------------------------------\n",
      "---------------------------------------- 74 ----------------------------------------\n",
      "---------------------------------------- 75 ----------------------------------------\n",
      "---------------------------------------- 76 ----------------------------------------\n",
      "---------------------------------------- 77 ----------------------------------------\n",
      "---------------------------------------- 78 ----------------------------------------\n",
      "---------------------------------------- 79 ----------------------------------------\n",
      "---------------------------------------- 80 ----------------------------------------\n",
      "---------------------------------------- 81 ----------------------------------------\n",
      "---------------------------------------- 82 ----------------------------------------\n",
      "---------------------------------------- 83 ----------------------------------------\n",
      "---------------------------------------- 84 ----------------------------------------\n",
      "---------------------------------------- 85 ----------------------------------------\n",
      "---------------------------------------- 86 ----------------------------------------\n",
      "---------------------------------------- 87 ----------------------------------------\n",
      "---------------------------------------- 88 ----------------------------------------\n",
      "---------------------------------------- 89 ----------------------------------------\n",
      "---------------------------------------- 90 ----------------------------------------\n",
      "---------------------------------------- 91 ----------------------------------------\n",
      "---------------------------------------- 92 ----------------------------------------\n",
      "---------------------------------------- 93 ----------------------------------------\n",
      "---------------------------------------- 94 ----------------------------------------\n",
      "---------------------------------------- 95 ----------------------------------------\n",
      "---------------------------------------- 96 ----------------------------------------\n",
      "---------------------------------------- 97 ----------------------------------------\n",
      "---------------------------------------- 98 ----------------------------------------\n",
      "---------------------------------------- 99 ----------------------------------------\n",
      "---------------------------------------- 100 ----------------------------------------\n",
      "---------------------------------------- 101 ----------------------------------------\n",
      "---------------------------------------- 102 ----------------------------------------\n",
      "---------------------------------------- 103 ----------------------------------------\n",
      "---------------------------------------- 104 ----------------------------------------\n",
      "---------------------------------------- 105 ----------------------------------------\n",
      "---------------------------------------- 106 ----------------------------------------\n",
      "---------------------------------------- 107 ----------------------------------------\n",
      "---------------------------------------- 108 ----------------------------------------\n",
      "---------------------------------------- 109 ----------------------------------------\n",
      "---------------------------------------- 110 ----------------------------------------\n",
      "---------------------------------------- 111 ----------------------------------------\n",
      "---------------------------------------- 112 ----------------------------------------\n",
      "---------------------------------------- 113 ----------------------------------------\n",
      "---------------------------------------- 114 ----------------------------------------\n",
      "---------------------------------------- 115 ----------------------------------------\n",
      "---------------------------------------- 116 ----------------------------------------\n",
      "---------------------------------------- 117 ----------------------------------------\n",
      "---------------------------------------- 118 ----------------------------------------\n",
      "---------------------------------------- 119 ----------------------------------------\n",
      "---------------------------------------- 120 ----------------------------------------\n",
      "---------------------------------------- 121 ----------------------------------------\n",
      "---------------------------------------- 122 ----------------------------------------\n",
      "---------------------------------------- 123 ----------------------------------------\n",
      "---------------------------------------- 124 ----------------------------------------\n",
      "---------------------------------------- 125 ----------------------------------------\n",
      "---------------------------------------- 126 ----------------------------------------\n",
      "---------------------------------------- 127 ----------------------------------------\n",
      "---------------------------------------- 128 ----------------------------------------\n",
      "---------------------------------------- 129 ----------------------------------------\n",
      "---------------------------------------- 130 ----------------------------------------\n",
      "---------------------------------------- 131 ----------------------------------------\n",
      "---------------------------------------- 132 ----------------------------------------\n",
      "---------------------------------------- 133 ----------------------------------------\n",
      "---------------------------------------- 134 ----------------------------------------\n",
      "---------------------------------------- 135 ----------------------------------------\n",
      "---------------------------------------- 136 ----------------------------------------\n",
      "---------------------------------------- 137 ----------------------------------------\n",
      "---------------------------------------- 138 ----------------------------------------\n",
      "---------------------------------------- 139 ----------------------------------------\n",
      "---------------------------------------- 140 ----------------------------------------\n",
      "---------------------------------------- 141 ----------------------------------------\n",
      "---------------------------------------- 142 ----------------------------------------\n",
      "---------------------------------------- 143 ----------------------------------------\n",
      "---------------------------------------- 144 ----------------------------------------\n",
      "---------------------------------------- 145 ----------------------------------------\n",
      "---------------------------------------- 146 ----------------------------------------\n",
      "---------------------------------------- 147 ----------------------------------------\n",
      "---------------------------------------- 148 ----------------------------------------\n",
      "---------------------------------------- 149 ----------------------------------------\n",
      "---------------------------------------- 150 ----------------------------------------\n",
      "---------------------------------------- 151 ----------------------------------------\n",
      "---------------------------------------- 152 ----------------------------------------\n",
      "---------------------------------------- 153 ----------------------------------------\n",
      "---------------------------------------- 154 ----------------------------------------\n",
      "---------------------------------------- 155 ----------------------------------------\n",
      "---------------------------------------- 156 ----------------------------------------\n",
      "---------------------------------------- 157 ----------------------------------------\n",
      "---------------------------------------- 158 ----------------------------------------\n",
      "---------------------------------------- 159 ----------------------------------------\n",
      "---------------------------------------- 160 ----------------------------------------\n",
      "---------------------------------------- 161 ----------------------------------------\n",
      "---------------------------------------- 162 ----------------------------------------\n",
      "---------------------------------------- 163 ----------------------------------------\n",
      "---------------------------------------- 164 ----------------------------------------\n",
      "---------------------------------------- 165 ----------------------------------------\n",
      "---------------------------------------- 166 ----------------------------------------\n",
      "---------------------------------------- 167 ----------------------------------------\n",
      "---------------------------------------- 168 ----------------------------------------\n",
      "---------------------------------------- 169 ----------------------------------------\n",
      "---------------------------------------- 170 ----------------------------------------\n",
      "---------------------------------------- 171 ----------------------------------------\n",
      "---------------------------------------- 172 ----------------------------------------\n",
      "---------------------------------------- 173 ----------------------------------------\n",
      "---------------------------------------- 174 ----------------------------------------\n",
      "---------------------------------------- 175 ----------------------------------------\n",
      "---------------------------------------- 176 ----------------------------------------\n",
      "---------------------------------------- 177 ----------------------------------------\n",
      "---------------------------------------- 178 ----------------------------------------\n",
      "---------------------------------------- 179 ----------------------------------------\n",
      "---------------------------------------- 180 ----------------------------------------\n",
      "---------------------------------------- 181 ----------------------------------------\n",
      "---------------------------------------- 182 ----------------------------------------\n",
      "---------------------------------------- 183 ----------------------------------------\n",
      "---------------------------------------- 184 ----------------------------------------\n",
      "---------------------------------------- 185 ----------------------------------------\n",
      "---------------------------------------- 186 ----------------------------------------\n",
      "---------------------------------------- 187 ----------------------------------------\n",
      "---------------------------------------- 188 ----------------------------------------\n",
      "---------------------------------------- 189 ----------------------------------------\n",
      "---------------------------------------- 190 ----------------------------------------\n",
      "---------------------------------------- 191 ----------------------------------------\n",
      "---------------------------------------- 192 ----------------------------------------\n",
      "---------------------------------------- 193 ----------------------------------------\n",
      "---------------------------------------- 194 ----------------------------------------\n",
      "---------------------------------------- 195 ----------------------------------------\n",
      "---------------------------------------- 196 ----------------------------------------\n",
      "---------------------------------------- 197 ----------------------------------------\n",
      "---------------------------------------- 198 ----------------------------------------\n",
      "---------------------------------------- 199 ----------------------------------------\n",
      "---------------------------------------- 200 ----------------------------------------\n",
      "---------------------------------------- 201 ----------------------------------------\n",
      "---------------------------------------- 202 ----------------------------------------\n",
      "---------------------------------------- 203 ----------------------------------------\n",
      "---------------------------------------- 204 ----------------------------------------\n",
      "---------------------------------------- 205 ----------------------------------------\n",
      "---------------------------------------- 206 ----------------------------------------\n",
      "---------------------------------------- 207 ----------------------------------------\n",
      "---------------------------------------- 208 ----------------------------------------\n",
      "---------------------------------------- 209 ----------------------------------------\n",
      "---------------------------------------- 210 ----------------------------------------\n",
      "---------------------------------------- 211 ----------------------------------------\n",
      "---------------------------------------- 212 ----------------------------------------\n",
      "---------------------------------------- 213 ----------------------------------------\n",
      "---------------------------------------- 214 ----------------------------------------\n",
      "---------------------------------------- 215 ----------------------------------------\n",
      "---------------------------------------- 216 ----------------------------------------\n",
      "---------------------------------------- 217 ----------------------------------------\n",
      "---------------------------------------- 218 ----------------------------------------\n",
      "---------------------------------------- 219 ----------------------------------------\n",
      "---------------------------------------- 220 ----------------------------------------\n",
      "---------------------------------------- 221 ----------------------------------------\n",
      "---------------------------------------- 222 ----------------------------------------\n",
      "---------------------------------------- 223 ----------------------------------------\n",
      "---------------------------------------- 224 ----------------------------------------\n",
      "---------------------------------------- 225 ----------------------------------------\n",
      "---------------------------------------- 226 ----------------------------------------\n",
      "---------------------------------------- 227 ----------------------------------------\n",
      "---------------------------------------- 228 ----------------------------------------\n",
      "---------------------------------------- 229 ----------------------------------------\n",
      "---------------------------------------- 230 ----------------------------------------\n",
      "---------------------------------------- 231 ----------------------------------------\n",
      "---------------------------------------- 232 ----------------------------------------\n",
      "---------------------------------------- 233 ----------------------------------------\n",
      "---------------------------------------- 234 ----------------------------------------\n",
      "---------------------------------------- 235 ----------------------------------------\n",
      "---------------------------------------- 236 ----------------------------------------\n",
      "---------------------------------------- 237 ----------------------------------------\n",
      "---------------------------------------- 238 ----------------------------------------\n",
      "---------------------------------------- 239 ----------------------------------------\n",
      "---------------------------------------- 240 ----------------------------------------\n",
      "---------------------------------------- 241 ----------------------------------------\n",
      "---------------------------------------- 242 ----------------------------------------\n",
      "---------------------------------------- 243 ----------------------------------------\n",
      "---------------------------------------- 244 ----------------------------------------\n",
      "---------------------------------------- 245 ----------------------------------------\n",
      "---------------------------------------- 246 ----------------------------------------\n",
      "---------------------------------------- 247 ----------------------------------------\n",
      "---------------------------------------- 248 ----------------------------------------\n",
      "---------------------------------------- 249 ----------------------------------------\n",
      "---------------------------------------- 250 ----------------------------------------\n"
     ]
    }
   ],
   "source": [
    "for i in range(0, df_folder[\"Label\"].nunique()):\n",
    "    os.makedirs(\n",
    "        os.path.join(\"..\", \"Dataset\", \"train_augmented_3\", str(i)), exist_ok=True\n",
    "    )\n",
    "    print(20 * \"--\", i, 20 * \"--\")\n",
    "    tmp = df_folder[df_folder[\"Label\"] == i]\n",
    "    for j in tmp.iterrows():\n",
    "        path_initial = os.path.join(\"..\", \"Dataset\", \"train_set\", j[1][\"Image\"])\n",
    "        path = os.path.join(\"..\", \"Dataset\", \"train_augmented_3\", str(i), j[1][\"Image\"])\n",
    "        img = cv2.imread(path_initial)\n",
    "        cv2.imwrite(path, img)"
   ]
  }
 ],
 "metadata": {
  "kernelspec": {
   "display_name": ".venv",
   "language": "python",
   "name": "python3"
  },
  "language_info": {
   "codemirror_mode": {
    "name": "ipython",
    "version": 3
   },
   "file_extension": ".py",
   "mimetype": "text/x-python",
   "name": "python",
   "nbconvert_exporter": "python",
   "pygments_lexer": "ipython3",
   "version": "3.10.5"
  }
 },
 "nbformat": 4,
 "nbformat_minor": 2
}
