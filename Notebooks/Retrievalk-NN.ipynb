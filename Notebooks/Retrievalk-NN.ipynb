{
 "cells": [
  {
   "cell_type": "markdown",
   "metadata": {},
   "source": [
    "# **Retrieval with k-NN**"
   ]
  },
  {
   "cell_type": "code",
   "execution_count": 1,
   "metadata": {},
   "outputs": [],
   "source": [
    "import sys\n",
    "\n",
    "sys.path.insert(0, \"..\\\\Scripts\")"
   ]
  },
  {
   "cell_type": "code",
   "execution_count": 2,
   "metadata": {},
   "outputs": [],
   "source": [
    "import os\n",
    "import numpy as np\n",
    "import pandas as pd\n",
    "import matplotlib.pyplot as plt"
   ]
  },
  {
   "cell_type": "markdown",
   "metadata": {},
   "source": [
    "## **Load dataset**"
   ]
  },
  {
   "cell_type": "code",
   "execution_count": 3,
   "metadata": {},
   "outputs": [],
   "source": [
    "from ImageDatastore import ImageDatastore\n",
    "from torch.utils.data import DataLoader\n",
    "from torchvision import transforms"
   ]
  },
  {
   "cell_type": "code",
   "execution_count": 4,
   "metadata": {},
   "outputs": [],
   "source": [
    "batch_size = 512\n",
    "transform = transforms.Compose(\n",
    "    [\n",
    "        transforms.Resize(\n",
    "            (232, 232), interpolation=transforms.InterpolationMode.BILINEAR\n",
    "        ),\n",
    "        transforms.Normalize(mean=[0.485, 0.456, 0.406], std=[0.229, 0.224, 0.225]),\n",
    "    ]\n",
    ")"
   ]
  },
  {
   "cell_type": "code",
   "execution_count": 5,
   "metadata": {},
   "outputs": [],
   "source": [
    "train_small = ImageDatastore('train', transform=transform)\n",
    "train_small_loader = DataLoader(train_small, batch_size=batch_size, shuffle=False)"
   ]
  },
  {
   "cell_type": "markdown",
   "metadata": {},
   "source": [
    "### **Load Unlabelled Data**"
   ]
  },
  {
   "cell_type": "code",
   "execution_count": 6,
   "metadata": {},
   "outputs": [
    {
     "data": {
      "text/html": [
       "<div>\n",
       "<style scoped>\n",
       "    .dataframe tbody tr th:only-of-type {\n",
       "        vertical-align: middle;\n",
       "    }\n",
       "\n",
       "    .dataframe tbody tr th {\n",
       "        vertical-align: top;\n",
       "    }\n",
       "\n",
       "    .dataframe thead th {\n",
       "        text-align: right;\n",
       "    }\n",
       "</style>\n",
       "<table border=\"1\" class=\"dataframe\">\n",
       "  <thead>\n",
       "    <tr style=\"text-align: right;\">\n",
       "      <th></th>\n",
       "      <th>Image</th>\n",
       "      <th>Label</th>\n",
       "    </tr>\n",
       "  </thead>\n",
       "  <tbody>\n",
       "    <tr>\n",
       "      <th>0</th>\n",
       "      <td>train_059329.jpg</td>\n",
       "      <td>-1</td>\n",
       "    </tr>\n",
       "    <tr>\n",
       "      <th>1</th>\n",
       "      <td>train_059330.jpg</td>\n",
       "      <td>-1</td>\n",
       "    </tr>\n",
       "    <tr>\n",
       "      <th>2</th>\n",
       "      <td>train_059331.jpg</td>\n",
       "      <td>-1</td>\n",
       "    </tr>\n",
       "    <tr>\n",
       "      <th>3</th>\n",
       "      <td>train_059332.jpg</td>\n",
       "      <td>-1</td>\n",
       "    </tr>\n",
       "    <tr>\n",
       "      <th>4</th>\n",
       "      <td>train_059333.jpg</td>\n",
       "      <td>-1</td>\n",
       "    </tr>\n",
       "  </tbody>\n",
       "</table>\n",
       "</div>"
      ],
      "text/plain": [
       "              Image  Label\n",
       "0  train_059329.jpg     -1\n",
       "1  train_059330.jpg     -1\n",
       "2  train_059331.jpg     -1\n",
       "3  train_059332.jpg     -1\n",
       "4  train_059333.jpg     -1"
      ]
     },
     "execution_count": 6,
     "metadata": {},
     "output_type": "execute_result"
    }
   ],
   "source": [
    "train_unlabelled = pd.read_csv(\"../Dataset/train_unlabeled.csv\", header=None)\n",
    "train_unlabelled.columns = [\"Image\", \"Label\"]\n",
    "train_unlabelled.head()"
   ]
  },
  {
   "cell_type": "code",
   "execution_count": 7,
   "metadata": {},
   "outputs": [
    {
     "name": "stdout",
     "output_type": "stream",
     "text": [
      "../Dataset/train_unlabeled_0.csv\n",
      "../Dataset/train_unlabeled_1.csv\n",
      "../Dataset/train_unlabeled_2.csv\n",
      "../Dataset/train_unlabeled_3.csv\n",
      "../Dataset/train_unlabeled_4.csv\n",
      "../Dataset/train_unlabeled_5.csv\n"
     ]
    }
   ],
   "source": [
    "n = train_unlabelled.shape[0] // 20_000\n",
    "for i in range(n + 1):\n",
    "    tmp = train_unlabelled.iloc[i * 20_000 : (i + 1) * 20_000]\n",
    "    tmp = tmp.reset_index(drop=True)\n",
    "    tmp.to_csv(f\"../Dataset/train_unlabeled_{i}.csv\", index=False, header=False)\n",
    "    print(f\"../Dataset/train_unlabeled_{i}.csv\")"
   ]
  },
  {
   "cell_type": "code",
   "execution_count": 8,
   "metadata": {},
   "outputs": [],
   "source": [
    "train_unlabelled = ImageDatastore(\"train_unlabeled_0\", transform=transform)\n",
    "train_loader = DataLoader(train_unlabelled, batch_size=batch_size, shuffle=False)"
   ]
  },
  {
   "cell_type": "markdown",
   "metadata": {},
   "source": [
    "## **Extracting Features**"
   ]
  },
  {
   "cell_type": "code",
   "execution_count": 9,
   "metadata": {},
   "outputs": [],
   "source": [
    "from NeuralFeatureExtractor import MobileNetFeatureExtractor"
   ]
  },
  {
   "cell_type": "code",
   "execution_count": 10,
   "metadata": {},
   "outputs": [],
   "source": [
    "base_feature_path = '../Features/features/'\n",
    "base_labels_path = '../Features/labels/'\n",
    "\n",
    "feature_type = 'mobilenet_v3_classifier.npy'\n",
    "feature_type_unlabelled = 'mobilenet_v3_classifier_unlabelled.npy'"
   ]
  },
  {
   "cell_type": "code",
   "execution_count": 11,
   "metadata": {},
   "outputs": [],
   "source": [
    "feature_extractor = MobileNetFeatureExtractor()\n"
   ]
  },
  {
   "cell_type": "code",
   "execution_count": 12,
   "metadata": {},
   "outputs": [],
   "source": [
    "if os.path.exists(os.path.join(base_feature_path, feature_type)) and os.path.exists(\n",
    "    os.path.join(base_labels_path, feature_type)\n",
    "):\n",
    "    x_train_small = np.load(os.path.join(base_feature_path, feature_type))\n",
    "    y_train_small = np.load(os.path.join(base_labels_path, feature_type))\n",
    "else:\n",
    "    x_train_small, y_train_small = feature_extractor.compute_features(\n",
    "        train_small_loader\n",
    "    )"
   ]
  },
  {
   "cell_type": "code",
   "execution_count": 13,
   "metadata": {},
   "outputs": [],
   "source": [
    "if os.path.exists(\n",
    "    os.path.join(base_feature_path, feature_type_unlabelled)\n",
    ") and os.path.exists(os.path.join(base_labels_path, feature_type_unlabelled)):\n",
    "    x_train_unlabelled = np.load(\n",
    "        os.path.join(base_feature_path, feature_type_unlabelled)\n",
    "    )\n",
    "    y_train_unlabelled = np.load(\n",
    "        os.path.join(base_labels_path, feature_type_unlabelled)\n",
    "    )\n",
    "else:\n",
    "    x_train_unlabelled, y_train_unlabelled = feature_extractor.compute_features(\n",
    "        train_loader\n",
    "    )"
   ]
  },
  {
   "cell_type": "markdown",
   "metadata": {},
   "source": [
    "### **Save Features**"
   ]
  },
  {
   "cell_type": "code",
   "execution_count": 14,
   "metadata": {},
   "outputs": [],
   "source": [
    "np.save(\n",
    "    os.path.join(base_feature_path, feature_type),\n",
    "    x_train_small,\n",
    "    allow_pickle=False,\n",
    ")\n",
    "np.save(\n",
    "    os.path.join(os.path.join(base_labels_path, feature_type)),\n",
    "    y_train_small,\n",
    "    allow_pickle=False,\n",
    ")"
   ]
  },
  {
   "cell_type": "code",
   "execution_count": 15,
   "metadata": {},
   "outputs": [],
   "source": [
    "np.save(\n",
    "    os.path.join(base_feature_path, feature_type_unlabelled),\n",
    "    x_train_unlabelled,\n",
    "    allow_pickle=False,\n",
    ")\n",
    "np.save(\n",
    "    os.path.join(base_labels_path, feature_type_unlabelled),\n",
    "    y_train_unlabelled,\n",
    "    allow_pickle=False,\n",
    ")"
   ]
  },
  {
   "cell_type": "markdown",
   "metadata": {},
   "source": [
    "## **Retrieval with k-NN**"
   ]
  },
  {
   "cell_type": "code",
   "execution_count": 16,
   "metadata": {},
   "outputs": [],
   "source": [
    "from ImageRetrieval import KNNRetrieval"
   ]
  },
  {
   "cell_type": "code",
   "execution_count": 17,
   "metadata": {},
   "outputs": [],
   "source": [
    "retrieval = KNNRetrieval('', '', '', k=3)"
   ]
  },
  {
   "cell_type": "code",
   "execution_count": 18,
   "metadata": {},
   "outputs": [],
   "source": [
    "labels, distances = retrieval.retrieve_images(x_train_unlabelled, x_train_small, y_train_small)"
   ]
  },
  {
   "cell_type": "code",
   "execution_count": 22,
   "metadata": {},
   "outputs": [
    {
     "data": {
      "text/plain": [
       "array([2760,  883,  569], dtype=int64)"
      ]
     },
     "execution_count": 22,
     "metadata": {},
     "output_type": "execute_result"
    }
   ],
   "source": [
    "labels[0]"
   ]
  },
  {
   "cell_type": "code",
   "execution_count": 20,
   "metadata": {},
   "outputs": [
    {
     "data": {
      "text/plain": [
       "array([0.4998598, 0.5460542, 0.5589403], dtype=float32)"
      ]
     },
     "execution_count": 20,
     "metadata": {},
     "output_type": "execute_result"
    }
   ],
   "source": [
    "distances[1]"
   ]
  },
  {
   "cell_type": "code",
   "execution_count": 21,
   "metadata": {},
   "outputs": [
    {
     "data": {
      "text/plain": [
       "array([  0,  21, 165], dtype=int64)"
      ]
     },
     "execution_count": 21,
     "metadata": {},
     "output_type": "execute_result"
    }
   ],
   "source": [
    "y_train_small[labels[1]]"
   ]
  }
 ],
 "metadata": {
  "kernelspec": {
   "display_name": ".venv",
   "language": "python",
   "name": "python3"
  },
  "language_info": {
   "codemirror_mode": {
    "name": "ipython",
    "version": 3
   },
   "file_extension": ".py",
   "mimetype": "text/x-python",
   "name": "python",
   "nbconvert_exporter": "python",
   "pygments_lexer": "ipython3",
   "version": "3.10.5"
  }
 },
 "nbformat": 4,
 "nbformat_minor": 2
}
