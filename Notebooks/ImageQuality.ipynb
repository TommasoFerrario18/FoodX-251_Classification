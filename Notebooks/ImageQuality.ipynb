{
 "cells": [
  {
   "cell_type": "markdown",
   "metadata": {},
   "source": [
    "# **Image Quality experiments**"
   ]
  },
  {
   "cell_type": "code",
   "execution_count": 1,
   "metadata": {},
   "outputs": [
    {
     "name": "stderr",
     "output_type": "stream",
     "text": [
      "c:\\Users\\tomma\\OneDrive\\Documenti\\GitHub\\FoodX-251_Classification\\.venv\\lib\\site-packages\\tqdm\\auto.py:21: TqdmWarning: IProgress not found. Please update jupyter and ipywidgets. See https://ipywidgets.readthedocs.io/en/stable/user_install.html\n",
      "  from .autonotebook import tqdm as notebook_tqdm\n"
     ]
    }
   ],
   "source": [
    "import sys\n",
    "import torch\n",
    "\n",
    "from tqdm import tqdm\n",
    "from pyiqa import create_metric\n",
    "from torchvision import transforms\n",
    "from torch.utils.data import DataLoader\n",
    "\n",
    "sys.path.insert(0, \"..\\\\Scripts\")"
   ]
  },
  {
   "cell_type": "code",
   "execution_count": 2,
   "metadata": {},
   "outputs": [],
   "source": [
    "from ImageDatastore import ImageDatastore"
   ]
  },
  {
   "cell_type": "code",
   "execution_count": 3,
   "metadata": {},
   "outputs": [],
   "source": [
    "batch_size = 512\n",
    "transforms = transforms.Compose(\n",
    "    [\n",
    "        transforms.Resize(\n",
    "            (232, 232), interpolation=transforms.InterpolationMode.BILINEAR\n",
    "        ),\n",
    "    ]\n",
    ")\n",
    "\n",
    "val_small = ImageDatastore(\"val_set\", transform=transforms)\n",
    "val_deg = ImageDatastore(\"val_degradate\", transform=transforms)"
   ]
  },
  {
   "cell_type": "markdown",
   "metadata": {},
   "source": [
    "## **Quality Estimation**"
   ]
  },
  {
   "cell_type": "code",
   "execution_count": 4,
   "metadata": {},
   "outputs": [],
   "source": [
    "# Initialize NIQE metric\n",
    "niqe_metric = create_metric(\"niqe\")"
   ]
  },
  {
   "cell_type": "code",
   "execution_count": 5,
   "metadata": {},
   "outputs": [],
   "source": [
    "def calculate_niqe_scores(dataset):\n",
    "    \"\"\"\n",
    "    Calculate NIQE scores for all images in the dataset\n",
    "    \"\"\"\n",
    "    niqe_metric = create_metric('niqe')\n",
    "    niqe_scores = []\n",
    "    \n",
    "    for idx in range(len(dataset)):\n",
    "        image, _ = dataset[idx]\n",
    "        # Add batch dimension and ensure image is on CPU\n",
    "        image = image.unsqueeze(0).cpu()\n",
    "        # Ensure values are exactly in [0, 1] range\n",
    "        image = torch.clamp(image, 0.0, 1.0)\n",
    "        # Double check the range\n",
    "        assert image.min() >= 0.0 and image.max() <= 1.0, f\"Image values out of range: min={image.min()}, max={image.max()}\"\n",
    "        niqe_score = float(niqe_metric(image))\n",
    "        niqe_scores.append(niqe_score)\n",
    "        \n",
    "        # Print debug info for first few images\n",
    "        if idx < 3:\n",
    "            print(f\"Image {idx} - min: {image.min():.6f}, max: {image.max():.6f}, shape: {image.shape}\")\n",
    "    \n",
    "    return niqe_scores"
   ]
  },
  {
   "cell_type": "code",
   "execution_count": 6,
   "metadata": {},
   "outputs": [
    {
     "name": "stdout",
     "output_type": "stream",
     "text": [
      "Image 0 - min: 0.000000, max: 1.000000, shape: torch.Size([1, 3, 232, 232])\n",
      "Image 1 - min: 0.000000, max: 1.000000, shape: torch.Size([1, 3, 232, 232])\n",
      "Image 2 - min: 0.000000, max: 0.997086, shape: torch.Size([1, 3, 232, 232])\n"
     ]
    }
   ],
   "source": [
    "# Initialize lists for NIQE scores\n",
    "val_niqe = calculate_niqe_scores(val_small)"
   ]
  },
  {
   "cell_type": "code",
   "execution_count": 7,
   "metadata": {},
   "outputs": [
    {
     "name": "stdout",
     "output_type": "stream",
     "text": [
      "Image 0 - min: 0.000000, max: 1.000000, shape: torch.Size([1, 3, 232, 232])\n",
      "Image 1 - min: 0.000000, max: 1.000000, shape: torch.Size([1, 3, 232, 232])\n",
      "Image 2 - min: 0.003801, max: 0.990090, shape: torch.Size([1, 3, 232, 232])\n"
     ]
    }
   ],
   "source": [
    "deg_niqe = calculate_niqe_scores(val_deg)"
   ]
  },
  {
   "cell_type": "code",
   "execution_count": 9,
   "metadata": {},
   "outputs": [
    {
     "data": {
      "text/html": [
       "<div>\n",
       "<style scoped>\n",
       "    .dataframe tbody tr th:only-of-type {\n",
       "        vertical-align: middle;\n",
       "    }\n",
       "\n",
       "    .dataframe tbody tr th {\n",
       "        vertical-align: top;\n",
       "    }\n",
       "\n",
       "    .dataframe thead th {\n",
       "        text-align: right;\n",
       "    }\n",
       "</style>\n",
       "<table border=\"1\" class=\"dataframe\">\n",
       "  <thead>\n",
       "    <tr style=\"text-align: right;\">\n",
       "      <th></th>\n",
       "      <th>val_niqe</th>\n",
       "      <th>deg_niqe</th>\n",
       "    </tr>\n",
       "  </thead>\n",
       "  <tbody>\n",
       "    <tr>\n",
       "      <th>count</th>\n",
       "      <td>11994.000000</td>\n",
       "      <td>11994.000000</td>\n",
       "    </tr>\n",
       "    <tr>\n",
       "      <th>mean</th>\n",
       "      <td>4.729814</td>\n",
       "      <td>6.304189</td>\n",
       "    </tr>\n",
       "    <tr>\n",
       "      <th>std</th>\n",
       "      <td>1.475678</td>\n",
       "      <td>2.510328</td>\n",
       "    </tr>\n",
       "    <tr>\n",
       "      <th>min</th>\n",
       "      <td>2.210318</td>\n",
       "      <td>2.245544</td>\n",
       "    </tr>\n",
       "    <tr>\n",
       "      <th>25%</th>\n",
       "      <td>3.810590</td>\n",
       "      <td>4.291391</td>\n",
       "    </tr>\n",
       "    <tr>\n",
       "      <th>50%</th>\n",
       "      <td>4.410388</td>\n",
       "      <td>5.682291</td>\n",
       "    </tr>\n",
       "    <tr>\n",
       "      <th>75%</th>\n",
       "      <td>5.260779</td>\n",
       "      <td>7.887836</td>\n",
       "    </tr>\n",
       "    <tr>\n",
       "      <th>max</th>\n",
       "      <td>21.560577</td>\n",
       "      <td>21.199060</td>\n",
       "    </tr>\n",
       "  </tbody>\n",
       "</table>\n",
       "</div>"
      ],
      "text/plain": [
       "           val_niqe      deg_niqe\n",
       "count  11994.000000  11994.000000\n",
       "mean       4.729814      6.304189\n",
       "std        1.475678      2.510328\n",
       "min        2.210318      2.245544\n",
       "25%        3.810590      4.291391\n",
       "50%        4.410388      5.682291\n",
       "75%        5.260779      7.887836\n",
       "max       21.560577     21.199060"
      ]
     },
     "execution_count": 9,
     "metadata": {},
     "output_type": "execute_result"
    }
   ],
   "source": [
    "import pandas as pd\n",
    "\n",
    "niqe_score = pd.DataFrame({'val_niqe': val_niqe, 'deg_niqe': deg_niqe})\n",
    "niqe_score.describe()"
   ]
  }
 ],
 "metadata": {
  "kernelspec": {
   "display_name": ".venv",
   "language": "python",
   "name": "python3"
  },
  "language_info": {
   "codemirror_mode": {
    "name": "ipython",
    "version": 3
   },
   "file_extension": ".py",
   "mimetype": "text/x-python",
   "name": "python",
   "nbconvert_exporter": "python",
   "pygments_lexer": "ipython3",
   "version": "3.10.5"
  }
 },
 "nbformat": 4,
 "nbformat_minor": 2
}
