{
 "cells": [
  {
   "cell_type": "code",
   "execution_count": 2,
   "metadata": {},
   "outputs": [],
   "source": [
    "import pandas as pd\n",
    "import os\n",
    "from tqdm import tqdm\n",
    "import cv2"
   ]
  },
  {
   "cell_type": "code",
   "execution_count": 4,
   "metadata": {},
   "outputs": [
    {
     "data": {
      "application/vnd.microsoft.datawrangler.viewer.v0+json": {
       "columns": [
        {
         "name": "index",
         "rawType": "int64",
         "type": "integer"
        },
        {
         "name": "Image",
         "rawType": "object",
         "type": "string"
        },
        {
         "name": "Label",
         "rawType": "int32",
         "type": "integer"
        }
       ],
       "conversionMethod": "pd.DataFrame",
       "ref": "443dff8f-1052-4d19-94bb-0793800a238d",
       "rows": [
        [
         "0",
         "train_059371.jpg",
         "0"
        ],
        [
         "1",
         "train_059389.jpg",
         "0"
        ],
        [
         "2",
         "train_059425.jpg",
         "0"
        ],
        [
         "3",
         "train_059445.jpg",
         "0"
        ],
        [
         "4",
         "train_059516.jpg",
         "0"
        ]
       ],
       "shape": {
        "columns": 2,
        "rows": 5
       }
      },
      "text/html": [
       "<div>\n",
       "<style scoped>\n",
       "    .dataframe tbody tr th:only-of-type {\n",
       "        vertical-align: middle;\n",
       "    }\n",
       "\n",
       "    .dataframe tbody tr th {\n",
       "        vertical-align: top;\n",
       "    }\n",
       "\n",
       "    .dataframe thead th {\n",
       "        text-align: right;\n",
       "    }\n",
       "</style>\n",
       "<table border=\"1\" class=\"dataframe\">\n",
       "  <thead>\n",
       "    <tr style=\"text-align: right;\">\n",
       "      <th></th>\n",
       "      <th>Image</th>\n",
       "      <th>Label</th>\n",
       "    </tr>\n",
       "  </thead>\n",
       "  <tbody>\n",
       "    <tr>\n",
       "      <th>0</th>\n",
       "      <td>train_059371.jpg</td>\n",
       "      <td>0</td>\n",
       "    </tr>\n",
       "    <tr>\n",
       "      <th>1</th>\n",
       "      <td>train_059389.jpg</td>\n",
       "      <td>0</td>\n",
       "    </tr>\n",
       "    <tr>\n",
       "      <th>2</th>\n",
       "      <td>train_059425.jpg</td>\n",
       "      <td>0</td>\n",
       "    </tr>\n",
       "    <tr>\n",
       "      <th>3</th>\n",
       "      <td>train_059445.jpg</td>\n",
       "      <td>0</td>\n",
       "    </tr>\n",
       "    <tr>\n",
       "      <th>4</th>\n",
       "      <td>train_059516.jpg</td>\n",
       "      <td>0</td>\n",
       "    </tr>\n",
       "  </tbody>\n",
       "</table>\n",
       "</div>"
      ],
      "text/plain": [
       "              Image  Label\n",
       "0  train_059371.jpg      0\n",
       "1  train_059389.jpg      0\n",
       "2  train_059425.jpg      0\n",
       "3  train_059445.jpg      0\n",
       "4  train_059516.jpg      0"
      ]
     },
     "execution_count": 4,
     "metadata": {},
     "output_type": "execute_result"
    }
   ],
   "source": [
    "df_folder = pd.read_csv('../Dataset/train_small.csv')\n",
    "df_folder.columns = [\"Image\", \"Label\"]\n",
    "df_folder['Label'] = df_folder['Label'].astype(int)\n",
    "df_folder.head()"
   ]
  },
  {
   "cell_type": "code",
   "execution_count": 5,
   "metadata": {},
   "outputs": [],
   "source": [
    "dict_food_label = {}\n",
    "with open(\"class_list.txt\", \"r\", encoding=\"utf-8\") as file:\n",
    "    for line in file:\n",
    "        key, value = line.strip().split(\" \", 1)\n",
    "        dict_food_label[int(key)] = value"
   ]
  },
  {
   "cell_type": "code",
   "execution_count": 6,
   "metadata": {},
   "outputs": [
    {
     "name": "stderr",
     "output_type": "stream",
     "text": [
      "  0%|          | 0/251 [00:00<?, ?it/s]"
     ]
    },
    {
     "name": "stderr",
     "output_type": "stream",
     "text": [
      "100%|██████████| 251/251 [00:59<00:00,  4.19it/s]\n"
     ]
    }
   ],
   "source": [
    "range_labels = df_folder[\"Label\"].nunique()\n",
    "\n",
    "for i in tqdm(range(range_labels)):\n",
    "    os.makedirs(\n",
    "        os.path.join(\"..\", \"Dataset\", \"train_augmented_Nearest\", f\"{str(i)}_{dict_food_label[i]}\"), exist_ok=True\n",
    "    )\n",
    "    tmp = df_folder[df_folder[\"Label\"] == i]\n",
    "    for j in tmp.iterrows():\n",
    "        path_initial = os.path.join(\"..\", \"Dataset\", \"train_set\", j[1][\"Image\"])\n",
    "        path = os.path.join(\"..\", \"Dataset\", \"train_augmented_Nearest\", f\"{str(i)}_{dict_food_label[i]}\", j[1][\"Image\"])\n",
    "        img = cv2.imread(path_initial)\n",
    "        cv2.imwrite(path, img)"
   ]
  }
 ],
 "metadata": {
  "kernelspec": {
   "display_name": ".venv",
   "language": "python",
   "name": "python3"
  },
  "language_info": {
   "codemirror_mode": {
    "name": "ipython",
    "version": 3
   },
   "file_extension": ".py",
   "mimetype": "text/x-python",
   "name": "python",
   "nbconvert_exporter": "python",
   "pygments_lexer": "ipython3",
   "version": "3.10.5"
  }
 },
 "nbformat": 4,
 "nbformat_minor": 2
}
