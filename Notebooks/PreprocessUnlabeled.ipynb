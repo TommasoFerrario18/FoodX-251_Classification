{
 "cells": [
  {
   "cell_type": "markdown",
   "metadata": {},
   "source": [
    "# **Preprocessing Training Unlabelled Data**"
   ]
  },
  {
   "cell_type": "code",
   "execution_count": 1,
   "metadata": {},
   "outputs": [],
   "source": [
    "import sys\n",
    "\n",
    "sys.path.insert(0, \"..\\\\Scripts\")\n",
    "\n",
    "import os\n",
    "import numpy as np\n",
    "import pandas as pd\n",
    "import matplotlib.pyplot as plt"
   ]
  },
  {
   "cell_type": "code",
   "execution_count": 2,
   "metadata": {},
   "outputs": [],
   "source": [
    "from ImageDatastore import ImageDatastore\n",
    "from torch.utils.data import DataLoader\n",
    "from torchvision import transforms"
   ]
  },
  {
   "cell_type": "code",
   "execution_count": 3,
   "metadata": {},
   "outputs": [],
   "source": [
    "batch_size = 512\n",
    "transform = transforms.Compose(\n",
    "    [\n",
    "        transforms.Resize(\n",
    "            (232, 232), interpolation=transforms.InterpolationMode.BILINEAR\n",
    "        ),\n",
    "        transforms.Normalize(mean=[0.485, 0.456, 0.406], std=[0.229, 0.224, 0.225]),\n",
    "    ]\n",
    ")"
   ]
  },
  {
   "cell_type": "markdown",
   "metadata": {},
   "source": [
    "## **Splitting the data into smaller chunks**"
   ]
  },
  {
   "cell_type": "code",
   "execution_count": 4,
   "metadata": {},
   "outputs": [
    {
     "data": {
      "text/html": [
       "<div>\n",
       "<style scoped>\n",
       "    .dataframe tbody tr th:only-of-type {\n",
       "        vertical-align: middle;\n",
       "    }\n",
       "\n",
       "    .dataframe tbody tr th {\n",
       "        vertical-align: top;\n",
       "    }\n",
       "\n",
       "    .dataframe thead th {\n",
       "        text-align: right;\n",
       "    }\n",
       "</style>\n",
       "<table border=\"1\" class=\"dataframe\">\n",
       "  <thead>\n",
       "    <tr style=\"text-align: right;\">\n",
       "      <th></th>\n",
       "      <th>Image</th>\n",
       "      <th>Label</th>\n",
       "    </tr>\n",
       "  </thead>\n",
       "  <tbody>\n",
       "    <tr>\n",
       "      <th>0</th>\n",
       "      <td>train_059329.jpg</td>\n",
       "      <td>-1</td>\n",
       "    </tr>\n",
       "    <tr>\n",
       "      <th>1</th>\n",
       "      <td>train_059330.jpg</td>\n",
       "      <td>-1</td>\n",
       "    </tr>\n",
       "    <tr>\n",
       "      <th>2</th>\n",
       "      <td>train_059331.jpg</td>\n",
       "      <td>-1</td>\n",
       "    </tr>\n",
       "    <tr>\n",
       "      <th>3</th>\n",
       "      <td>train_059332.jpg</td>\n",
       "      <td>-1</td>\n",
       "    </tr>\n",
       "    <tr>\n",
       "      <th>4</th>\n",
       "      <td>train_059333.jpg</td>\n",
       "      <td>-1</td>\n",
       "    </tr>\n",
       "  </tbody>\n",
       "</table>\n",
       "</div>"
      ],
      "text/plain": [
       "              Image  Label\n",
       "0  train_059329.jpg     -1\n",
       "1  train_059330.jpg     -1\n",
       "2  train_059331.jpg     -1\n",
       "3  train_059332.jpg     -1\n",
       "4  train_059333.jpg     -1"
      ]
     },
     "execution_count": 4,
     "metadata": {},
     "output_type": "execute_result"
    }
   ],
   "source": [
    "train_unlabelled = pd.read_csv(\"../Dataset/train_unlabeled.csv\", header=None)\n",
    "train_unlabelled.columns = [\"Image\", \"Label\"]\n",
    "train_unlabelled.head()"
   ]
  },
  {
   "cell_type": "code",
   "execution_count": 5,
   "metadata": {},
   "outputs": [
    {
     "name": "stdout",
     "output_type": "stream",
     "text": [
      "../Dataset/train_unlabeled_0.csv\n",
      "../Dataset/train_unlabeled_1.csv\n",
      "../Dataset/train_unlabeled_2.csv\n",
      "../Dataset/train_unlabeled_3.csv\n",
      "../Dataset/train_unlabeled_4.csv\n",
      "../Dataset/train_unlabeled_5.csv\n"
     ]
    }
   ],
   "source": [
    "n = train_unlabelled.shape[0] // 20_000\n",
    "for i in range(n + 1):\n",
    "    tmp = train_unlabelled.iloc[i * 20_000 : (i + 1) * 20_000]\n",
    "    tmp = tmp.reset_index(drop=True)\n",
    "    tmp.to_csv(f\"../Dataset/train_unlabeled_{i}.csv\", index=False, header=False)\n",
    "    print(f\"../Dataset/train_unlabeled_{i}.csv\")"
   ]
  },
  {
   "cell_type": "markdown",
   "metadata": {},
   "source": [
    "## **Extracting Features**"
   ]
  },
  {
   "cell_type": "code",
   "execution_count": 6,
   "metadata": {},
   "outputs": [],
   "source": [
    "from tqdm import tqdm\n",
    "from NeuralFeatureExtractor import MobileNetFeatureExtractor"
   ]
  },
  {
   "cell_type": "code",
   "execution_count": 8,
   "metadata": {},
   "outputs": [
    {
     "name": "stdout",
     "output_type": "stream",
     "text": [
      "Batch 40 / 40\r"
     ]
    },
    {
     "ename": "AttributeError",
     "evalue": "'MobileNetFeatureExtractor' object has no attribute 'save_features'",
     "output_type": "error",
     "traceback": [
      "\u001b[1;31m---------------------------------------------------------------------------\u001b[0m",
      "\u001b[1;31mAttributeError\u001b[0m                            Traceback (most recent call last)",
      "Cell \u001b[1;32mIn[8], line 10\u001b[0m\n\u001b[0;32m      6\u001b[0m dataloader \u001b[38;5;241m=\u001b[39m DataLoader(image_datastore, batch_size\u001b[38;5;241m=\u001b[39mbatch_size, shuffle\u001b[38;5;241m=\u001b[39m\u001b[38;5;28;01mFalse\u001b[39;00m)\n\u001b[0;32m      8\u001b[0m features, labels \u001b[38;5;241m=\u001b[39m feature_extractor\u001b[38;5;241m.\u001b[39mcompute_features(dataloader)\n\u001b[1;32m---> 10\u001b[0m \u001b[43mfeature_extractor\u001b[49m\u001b[38;5;241;43m.\u001b[39;49m\u001b[43msave_features\u001b[49m(features, labels)\n",
      "\u001b[1;31mAttributeError\u001b[0m: 'MobileNetFeatureExtractor' object has no attribute 'save_features'"
     ]
    }
   ],
   "source": [
    "i = 0\n",
    "feature_extractor = MobileNetFeatureExtractor(\n",
    "    result_file=f\"mobilenet_v3_classifier_unlabelled_{i}.npy\"\n",
    ")\n",
    "image_datastore = ImageDatastore(f\"train_unlabeled_{i}\", transform=transform)\n",
    "dataloader = DataLoader(image_datastore, batch_size=batch_size, shuffle=False)\n",
    "\n",
    "features, labels = feature_extractor.compute_features(dataloader)\n",
    "\n",
    "feature_extractor._save_features(features, labels)"
   ]
  },
  {
   "cell_type": "code",
   "execution_count": 10,
   "metadata": {},
   "outputs": [
    {
     "name": "stdout",
     "output_type": "stream",
     "text": [
      "Batch 40 / 40\r"
     ]
    }
   ],
   "source": [
    "i = 1\n",
    "feature_extractor = MobileNetFeatureExtractor(\n",
    "    result_file=f\"mobilenet_v3_classifier_unlabelled_{i}.npy\"\n",
    ")\n",
    "image_datastore = ImageDatastore(f\"train_unlabeled_{i}\", transform=transform)\n",
    "dataloader = DataLoader(image_datastore, batch_size=batch_size, shuffle=False)\n",
    "\n",
    "features, labels = feature_extractor.compute_features(dataloader)\n",
    "\n",
    "feature_extractor._save_features(features, labels)"
   ]
  },
  {
   "cell_type": "code",
   "execution_count": 11,
   "metadata": {},
   "outputs": [
    {
     "name": "stdout",
     "output_type": "stream",
     "text": [
      "Batch 40 / 40\r"
     ]
    }
   ],
   "source": [
    "i = 2\n",
    "feature_extractor = MobileNetFeatureExtractor(\n",
    "    result_file=f\"mobilenet_v3_classifier_unlabelled_{i}.npy\"\n",
    ")\n",
    "image_datastore = ImageDatastore(f\"train_unlabeled_{i}\", transform=transform)\n",
    "dataloader = DataLoader(image_datastore, batch_size=batch_size, shuffle=False)\n",
    "\n",
    "features, labels = feature_extractor.compute_features(dataloader)\n",
    "\n",
    "feature_extractor._save_features(features, labels)"
   ]
  },
  {
   "cell_type": "code",
   "execution_count": 12,
   "metadata": {},
   "outputs": [
    {
     "name": "stdout",
     "output_type": "stream",
     "text": [
      "Batch 40 / 40\r"
     ]
    }
   ],
   "source": [
    "i = 3\n",
    "feature_extractor = MobileNetFeatureExtractor(\n",
    "    result_file=f\"mobilenet_v3_classifier_unlabelled_{i}.npy\"\n",
    ")\n",
    "image_datastore = ImageDatastore(f\"train_unlabeled_{i}\", transform=transform)\n",
    "dataloader = DataLoader(image_datastore, batch_size=batch_size, shuffle=False)\n",
    "\n",
    "features, labels = feature_extractor.compute_features(dataloader)\n",
    "\n",
    "feature_extractor._save_features(features, labels)"
   ]
  },
  {
   "cell_type": "code",
   "execution_count": 13,
   "metadata": {},
   "outputs": [
    {
     "name": "stdout",
     "output_type": "stream",
     "text": [
      "Batch 40 / 40\r"
     ]
    }
   ],
   "source": [
    "i = 4\n",
    "feature_extractor = MobileNetFeatureExtractor(\n",
    "    result_file=f\"mobilenet_v3_classifier_unlabelled_{i}.npy\"\n",
    ")\n",
    "image_datastore = ImageDatastore(f\"train_unlabeled_{i}\", transform=transform)\n",
    "dataloader = DataLoader(image_datastore, batch_size=batch_size, shuffle=False)\n",
    "\n",
    "features, labels = feature_extractor.compute_features(dataloader)\n",
    "\n",
    "feature_extractor._save_features(features, labels)"
   ]
  },
  {
   "cell_type": "code",
   "execution_count": 14,
   "metadata": {},
   "outputs": [
    {
     "name": "stdout",
     "output_type": "stream",
     "text": [
      "Batch 27 / 27\r"
     ]
    }
   ],
   "source": [
    "i = 5\n",
    "feature_extractor = MobileNetFeatureExtractor(\n",
    "    result_file=f\"mobilenet_v3_classifier_unlabelled_{i}.npy\"\n",
    ")\n",
    "image_datastore = ImageDatastore(f\"train_unlabeled_{i}\", transform=transform)\n",
    "dataloader = DataLoader(image_datastore, batch_size=batch_size, shuffle=False)\n",
    "\n",
    "features, labels = feature_extractor.compute_features(dataloader)\n",
    "\n",
    "feature_extractor._save_features(features, labels)"
   ]
  }
 ],
 "metadata": {
  "kernelspec": {
   "display_name": ".venv",
   "language": "python",
   "name": "python3"
  },
  "language_info": {
   "codemirror_mode": {
    "name": "ipython",
    "version": 3
   },
   "file_extension": ".py",
   "mimetype": "text/x-python",
   "name": "python",
   "nbconvert_exporter": "python",
   "pygments_lexer": "ipython3",
   "version": "3.10.5"
  }
 },
 "nbformat": 4,
 "nbformat_minor": 2
}
