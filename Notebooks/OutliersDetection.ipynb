{
 "cells": [
  {
   "cell_type": "code",
   "execution_count": 1,
   "metadata": {},
   "outputs": [],
   "source": [
    "import sys\n",
    "\n",
    "sys.path.insert(0, \"..\\\\Scripts\")\n",
    "\n",
    "from ImageDatastore import ImageDatastore\n",
    "from Utils import create_or_clear_directory, transform\n",
    "from NeuralFeatureExtractor import MobileNetFeatureExtractor\n",
    "from torch.utils.data import DataLoader\n",
    "from torchvision.transforms import ToTensor\n",
    "from sklearn.cluster import DBSCAN\n",
    "from scipy.spatial.distance import pdist, squareform\n",
    "from scipy.stats import zscore\n",
    "import numpy as np\n",
    "import os\n",
    "import shutil\n",
    "from sklearn.preprocessing import StandardScaler"
   ]
  },
  {
   "cell_type": "code",
   "execution_count": 2,
   "metadata": {},
   "outputs": [],
   "source": [
    "train_data = ImageDatastore('train', transform=transform(256))\n",
    "\n",
    "batch_size = 512\n",
    "train_dataloader = DataLoader(train_data, batch_size=batch_size, shuffle=True)"
   ]
  },
  {
   "cell_type": "code",
   "execution_count": 4,
   "metadata": {},
   "outputs": [
    {
     "name": "stdout",
     "output_type": "stream",
     "text": [
      "Batch 10 / 10\r"
     ]
    }
   ],
   "source": [
    "extractor = MobileNetFeatureExtractor()\n",
    "features, labels = extractor.compute_features(train_dataloader)"
   ]
  },
  {
   "cell_type": "code",
   "execution_count": 5,
   "metadata": {},
   "outputs": [],
   "source": [
    "scaler = StandardScaler()"
   ]
  },
  {
   "cell_type": "code",
   "execution_count": null,
   "metadata": {},
   "outputs": [
    {
     "name": "stdout",
     "output_type": "stream",
     "text": [
      "N elements 5020\n"
     ]
    }
   ],
   "source": [
    "path_outliers = '../Results/outliers2'\n",
    "create_or_clear_directory(path_outliers)\n",
    "\n",
    "valid_image_idx = list(range(len(features)))\n",
    "\n",
    "range_labels = len(features) // 20\n",
    "outliers = []\n",
    "\n",
    "for i in range(range_labels):\n",
    "    \n",
    "    current_features = features[i*20:(i+1)*20, :]\n",
    "\n",
    "    features_scaled = scaler.fit_transform(current_features)\n",
    "\n",
    "    distanze = pdist(features_scaled, 'euclidean')\n",
    "    \n",
    "    epsilon = np.median(distanze)\n",
    "    min_pts = 2\n",
    "    \n",
    "    dbscan = DBSCAN(eps=epsilon, min_samples=min_pts)\n",
    "    labels = dbscan.fit_predict(features_scaled)\n",
    "    \n",
    "    outlier_idx = np.where(labels == -1)[0]\n",
    "\n",
    "    if outlier_idx.size == 0:\n",
    "        outlier_idx = np.array([0])\n",
    "    else:\n",
    "        for idx in outlier_idx:\n",
    "            img_idx = i * 20 + idx\n",
    "            img_name = train_data.labels.iloc[img_idx][0]\n",
    "            img_path = os.path.join(train_data.images_directory, img_name)\n",
    "\n",
    "            valid_image_idx.remove(img_idx)\n",
    "            \n",
    "            file_name, file_ext = os.path.splitext(img_name)\n",
    "            outlier_file_name = os.path.join(path_outliers, f\"{i}_class_{file_name}{file_ext}\")\n",
    "            \n",
    "            shutil.copy2(img_path, outlier_file_name)\n",
    "    outliers.extend(outlier_idx + i * 20)"
   ]
  }
 ],
 "metadata": {
  "kernelspec": {
   "display_name": ".venv",
   "language": "python",
   "name": "python3"
  },
  "language_info": {
   "codemirror_mode": {
    "name": "ipython",
    "version": 3
   },
   "file_extension": ".py",
   "mimetype": "text/x-python",
   "name": "python",
   "nbconvert_exporter": "python",
   "pygments_lexer": "ipython3",
   "version": "3.10.5"
  }
 },
 "nbformat": 4,
 "nbformat_minor": 2
}
